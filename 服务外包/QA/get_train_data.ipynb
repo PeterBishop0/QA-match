{
 "cells": [
  {
   "cell_type": "code",
   "execution_count": 2,
   "metadata": {
    "collapsed": true
   },
   "outputs": [],
   "source": [
    "import xlrd\n",
    "import xlwt\n",
    "from random import choice\n",
    "\n",
    "####################################################################################\n",
    "# \n",
    "#randomly generate negative question and turn raw excel into a txt and train excel\n",
    "#\n",
    "####################################################################################\n",
    "def read_excel(path):\n",
    "    excel=xlrd.open_workbook(path)\n",
    "    sheet1=excel.sheet_by_index(0)\n",
    "    col_1=sheet1.col_values(0)\n",
    "    col_2=sheet1.col_values(1)\n",
    "    return col_1,col_2\n",
    "def neg_ans(c1,c2):\n",
    "    l=len(c1)\n",
    "    c3=[\"负向答案\"]\n",
    "    for i in range(1,l):\n",
    "        ans=choice(c2)\n",
    "        while c2[i]==ans:\n",
    "            ans=choice(c2)\n",
    "        c3.append(ans)\n",
    "    return c3\n",
    "def write_excel(c1,c2,c3):\n",
    "    f = xlwt.Workbook()\n",
    "    book = xlwt.Workbook(encoding='utf-8', style_compression=0)\n",
    "    sheet = book.add_sheet('test', cell_overwrite_ok=True)\n",
    "    for i in range(len(c3)):\n",
    "        sheet.write(i, 0, c1[i])\n",
    "        sheet.write(i, 1, c2[i])\n",
    "        sheet.write(i, 2, c3[i])\n",
    "    book.save(r'..\\data\\test.xls') \n",
    "if __name__ =='__main__':\n",
    "    (c1,c2)=read_excel(\"../data/train.xls\")\n",
    "    c1[0]=\"训练问题\"\n",
    "    c2[0]=\"正向答案\"\n",
    "    c3=neg_ans(c1,c2)\n",
    "    write_excel(c1,c2,c3)"
   ]
  },
  {
   "cell_type": "code",
   "execution_count": null,
   "metadata": {
    "collapsed": true
   },
   "outputs": [],
   "source": []
  }
 ],
 "metadata": {
  "kernelspec": {
   "display_name": "Python 3",
   "language": "python",
   "name": "python3"
  },
  "language_info": {
   "codemirror_mode": {
    "name": "ipython",
    "version": 3
   },
   "file_extension": ".py",
   "mimetype": "text/x-python",
   "name": "python",
   "nbconvert_exporter": "python",
   "pygments_lexer": "ipython3",
   "version": "3.5.4"
  }
 },
 "nbformat": 4,
 "nbformat_minor": 2
}
